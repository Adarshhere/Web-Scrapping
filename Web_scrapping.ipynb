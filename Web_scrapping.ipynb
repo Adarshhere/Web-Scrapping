{
 "cells": [
  {
   "cell_type": "code",
   "execution_count": 1,
   "metadata": {},
   "outputs": [],
   "source": [
    "from bs4 import BeautifulSoup"
   ]
  },
  {
   "cell_type": "code",
   "execution_count": 2,
   "metadata": {},
   "outputs": [],
   "source": [
    "import requests"
   ]
  },
  {
   "cell_type": "code",
   "execution_count": 3,
   "metadata": {},
   "outputs": [],
   "source": [
    "import time"
   ]
  },
  {
   "cell_type": "code",
   "execution_count": 4,
   "metadata": {},
   "outputs": [],
   "source": [
    "html_texts=requests.get(\"https://www.timesjobs.com/candidate/job-search.html?searchType=personalizedSearch&from=submit&txtKeywords=python&txtLocation=\").text"
   ]
  },
  {
   "cell_type": "code",
   "execution_count": 5,
   "metadata": {},
   "outputs": [],
   "source": [
    "soup=BeautifulSoup(html_texts,'lxml')"
   ]
  },
  {
   "cell_type": "code",
   "execution_count": 6,
   "metadata": {},
   "outputs": [],
   "source": [
    "jobs=soup.find_all('li', class_='clearfix job-bx wht-shd-bx')"
   ]
  },
  {
   "cell_type": "code",
   "execution_count": 7,
   "metadata": {},
   "outputs": [
    {
     "name": "stdout",
     "output_type": "stream",
     "text": [
      "Put some skills you are not familiar with\n",
      "filtering out : django\n",
      "File saved : 0\n",
      "File saved : 5\n",
      "File saved : 10\n",
      "File saved : 18\n",
      "Waiting 10 Minutes\n"
     ]
    }
   ],
   "source": [
    "print(\"Put some skills you are not familiar with\")\n",
    "unfamiliar_skill=input('>')\n",
    "print(f\"filtering out : {unfamiliar_skill}\")\n",
    "\n",
    "def find_jobs():\n",
    "    for index , job in enumerate(jobs):\n",
    "        published_date=job.find('span',class_='sim-posted').span.text\n",
    "        if \"few\" in published_date: \n",
    "            company_name=job.find('h3',class_='joblist-comp-name').text.replace(\" \",'')\n",
    "            skills=job.find('span',class_='srp-skills').text.replace(\" \",'')\n",
    "            more_info=job.header.h2.a['href']\n",
    "            if unfamiliar_skill not in skills:\n",
    "                with open(f'Posts/{index}.txt','w') as f:\n",
    "                    f.write(f\"Company Name : {company_name.strip()} \\n\")\n",
    "                    f.write(f\"Required Skills :{skills.strip()} \\n\")\n",
    "                    f.write(f\"More info : {more_info}\")\n",
    "                print(f'File saved : {index}')\n",
    "\n",
    "if __name__=='__main__':\n",
    "    while True:\n",
    "        find_jobs()\n",
    "        time_wait=10\n",
    "        print(f\"Waiting {time_wait} Minutes\")\n",
    "        time.sleep(time_wait*60)"
   ]
  }
 ],
 "metadata": {
  "kernelspec": {
   "display_name": "Python 3.10.7 64-bit",
   "language": "python",
   "name": "python3"
  },
  "language_info": {
   "codemirror_mode": {
    "name": "ipython",
    "version": 3
   },
   "file_extension": ".py",
   "mimetype": "text/x-python",
   "name": "python",
   "nbconvert_exporter": "python",
   "pygments_lexer": "ipython3",
   "version": "3.10.7"
  },
  "orig_nbformat": 4,
  "vscode": {
   "interpreter": {
    "hash": "7278c71ffa4207e9ec14f2e824c0e5d4b977e0ff48cc976093a16e76b6291a2f"
   }
  }
 },
 "nbformat": 4,
 "nbformat_minor": 2
}
